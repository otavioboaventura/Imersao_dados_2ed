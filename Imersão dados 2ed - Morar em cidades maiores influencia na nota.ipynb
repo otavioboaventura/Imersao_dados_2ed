{
 "cells": [
  {
   "cell_type": "markdown",
   "metadata": {},
   "source": [
    "# Morar em uma cidade grande te da mais chances de tirar uma nota maior no ENEM?"
   ]
  },
  {
   "cell_type": "markdown",
   "metadata": {},
   "source": [
    "Como um brasileirinho do interior de São Paulo sempre me perguntei \"será que se tivesse nascido e morado em uma cidade maior eu teria mais oportunidades, um salário maior, uma nota maior no ENEM?\". Durante essa semana da imersão dados, fiquei me perguntando se usando data science e os dados do ENEM 2019 não seria capaz de responder a essa pegunta (pelo menos em relação à prova do ENEM).\n",
    "\n",
    "A minha hipótese, é de que, morando em uma cidade maior ficaria mais fácil ter acesso à escolas melhores (ou pelo menos mais opções) e, assim, sua nota no ENEM vai ser melhor. Claro, estou assumindo que escolas melhores estão mais presente em cidades maiores, o que faz sentido já que fica mais fácil escolher melhores professores (e até melhores alunos) em uma população maior.\n",
    "\n",
    "Pra isso, precisei buscar um tabela com a população de cada munícipio do Brasil e explorar essa hipótese e mais algumas que surgiram no caminho."
   ]
  },
  {
   "cell_type": "markdown",
   "metadata": {},
   "source": [
    "### Buscando a população de cada municipio do Brasil"
   ]
  },
  {
   "cell_type": "code",
   "execution_count": 1,
   "metadata": {},
   "outputs": [
    {
     "data": {
      "text/html": [
       "<div>\n",
       "<style scoped>\n",
       "    .dataframe tbody tr th:only-of-type {\n",
       "        vertical-align: middle;\n",
       "    }\n",
       "\n",
       "    .dataframe tbody tr th {\n",
       "        vertical-align: top;\n",
       "    }\n",
       "\n",
       "    .dataframe thead th {\n",
       "        text-align: right;\n",
       "    }\n",
       "</style>\n",
       "<table border=\"1\" class=\"dataframe\">\n",
       "  <thead>\n",
       "    <tr style=\"text-align: right;\">\n",
       "      <th></th>\n",
       "      <th>Posição</th>\n",
       "      <th>Código IBGE</th>\n",
       "      <th>Município</th>\n",
       "      <th>Unidade federativa</th>\n",
       "      <th>População</th>\n",
       "    </tr>\n",
       "  </thead>\n",
       "  <tbody>\n",
       "    <tr>\n",
       "      <th>0</th>\n",
       "      <td>1º</td>\n",
       "      <td>3550308</td>\n",
       "      <td>São Paulo</td>\n",
       "      <td>São Paulo</td>\n",
       "      <td>12 252 023</td>\n",
       "    </tr>\n",
       "    <tr>\n",
       "      <th>1</th>\n",
       "      <td>2º</td>\n",
       "      <td>3304557</td>\n",
       "      <td>Rio de Janeiro</td>\n",
       "      <td>Rio de Janeiro</td>\n",
       "      <td>6 718 903</td>\n",
       "    </tr>\n",
       "    <tr>\n",
       "      <th>2</th>\n",
       "      <td>3º</td>\n",
       "      <td>5300108</td>\n",
       "      <td>Brasília</td>\n",
       "      <td>Distrito Federal</td>\n",
       "      <td>3 015 268</td>\n",
       "    </tr>\n",
       "    <tr>\n",
       "      <th>3</th>\n",
       "      <td>4º</td>\n",
       "      <td>2927408</td>\n",
       "      <td>Salvador</td>\n",
       "      <td>Bahia</td>\n",
       "      <td>2 872 347</td>\n",
       "    </tr>\n",
       "    <tr>\n",
       "      <th>4</th>\n",
       "      <td>5º</td>\n",
       "      <td>2304400</td>\n",
       "      <td>Fortaleza</td>\n",
       "      <td>Ceará</td>\n",
       "      <td>2 669 342</td>\n",
       "    </tr>\n",
       "    <tr>\n",
       "      <th>5</th>\n",
       "      <td>6º</td>\n",
       "      <td>3106200</td>\n",
       "      <td>Belo Horizonte</td>\n",
       "      <td>Minas Gerais</td>\n",
       "      <td>2 512 070</td>\n",
       "    </tr>\n",
       "    <tr>\n",
       "      <th>6</th>\n",
       "      <td>7º</td>\n",
       "      <td>1302603</td>\n",
       "      <td>Manaus</td>\n",
       "      <td>Amazonas</td>\n",
       "      <td>2 182 763</td>\n",
       "    </tr>\n",
       "    <tr>\n",
       "      <th>7</th>\n",
       "      <td>8º</td>\n",
       "      <td>4106902</td>\n",
       "      <td>Curitiba</td>\n",
       "      <td>Paraná</td>\n",
       "      <td>1 933 105</td>\n",
       "    </tr>\n",
       "    <tr>\n",
       "      <th>8</th>\n",
       "      <td>9º</td>\n",
       "      <td>2611606</td>\n",
       "      <td>Recife</td>\n",
       "      <td>Pernambuco</td>\n",
       "      <td>1 645 727</td>\n",
       "    </tr>\n",
       "    <tr>\n",
       "      <th>9</th>\n",
       "      <td>10º</td>\n",
       "      <td>5208707</td>\n",
       "      <td>Goiânia</td>\n",
       "      <td>Goiás</td>\n",
       "      <td>1 516 113</td>\n",
       "    </tr>\n",
       "  </tbody>\n",
       "</table>\n",
       "</div>"
      ],
      "text/plain": [
       "  Posição  Código IBGE       Município Unidade federativa   População\n",
       "0      1º      3550308       São Paulo          São Paulo  12 252 023\n",
       "1      2º      3304557  Rio de Janeiro     Rio de Janeiro   6 718 903\n",
       "2      3º      5300108        Brasília   Distrito Federal   3 015 268\n",
       "3      4º      2927408        Salvador              Bahia   2 872 347\n",
       "4      5º      2304400       Fortaleza              Ceará   2 669 342\n",
       "5      6º      3106200  Belo Horizonte       Minas Gerais   2 512 070\n",
       "6      7º      1302603          Manaus           Amazonas   2 182 763\n",
       "7      8º      4106902        Curitiba             Paraná   1 933 105\n",
       "8      9º      2611606          Recife         Pernambuco   1 645 727\n",
       "9     10º      5208707         Goiânia              Goiás   1 516 113"
      ]
     },
     "execution_count": 1,
     "metadata": {},
     "output_type": "execute_result"
    }
   ],
   "source": [
    "# Bibliotecas necessárias para pegar as informações da wikipedia\n",
    "from bs4 import BeautifulSoup\n",
    "import requests\n",
    "import pandas as pd\n",
    "\n",
    "# Página da wiki com os dados de opopulação de todos os munícipios do Brasil\n",
    "wiki_url = 'https://pt.wikipedia.org/wiki/Lista_de_munic%C3%ADpios_do_Brasil_por_popula%C3%A7%C3%A3o_(2019)'\n",
    "\n",
    "# Fazendo o resquest da página\n",
    "response = requests.get(wiki_url)\n",
    "soup = BeautifulSoup(response.text,'html.parser')\n",
    "\n",
    "# Extraindo apenas a tabela\n",
    "tabela_html = soup.find('table')\n",
    "\n",
    "# Transformando a tabela em um data frame\n",
    "tabela = pd.read_html(str(tabela_html))\n",
    "dados_cidades = tabela[0]\n",
    "\n",
    "# Mostrando as 10 primeiras linhas da tabela\n",
    "dados_cidades.head(10)"
   ]
  },
  {
   "cell_type": "markdown",
   "metadata": {},
   "source": [
    "### Importando os dados do ENEM"
   ]
  },
  {
   "cell_type": "code",
   "execution_count": 2,
   "metadata": {},
   "outputs": [
    {
     "data": {
      "text/html": [
       "<div>\n",
       "<style scoped>\n",
       "    .dataframe tbody tr th:only-of-type {\n",
       "        vertical-align: middle;\n",
       "    }\n",
       "\n",
       "    .dataframe tbody tr th {\n",
       "        vertical-align: top;\n",
       "    }\n",
       "\n",
       "    .dataframe thead th {\n",
       "        text-align: right;\n",
       "    }\n",
       "</style>\n",
       "<table border=\"1\" class=\"dataframe\">\n",
       "  <thead>\n",
       "    <tr style=\"text-align: right;\">\n",
       "      <th></th>\n",
       "      <th>NU_INSCRICAO</th>\n",
       "      <th>NU_ANO</th>\n",
       "      <th>CO_MUNICIPIO_RESIDENCIA</th>\n",
       "      <th>NO_MUNICIPIO_RESIDENCIA</th>\n",
       "      <th>CO_UF_RESIDENCIA</th>\n",
       "      <th>SG_UF_RESIDENCIA</th>\n",
       "      <th>NU_IDADE</th>\n",
       "      <th>TP_SEXO</th>\n",
       "      <th>TP_ESTADO_CIVIL</th>\n",
       "      <th>TP_COR_RACA</th>\n",
       "      <th>...</th>\n",
       "      <th>Q016</th>\n",
       "      <th>Q017</th>\n",
       "      <th>Q018</th>\n",
       "      <th>Q019</th>\n",
       "      <th>Q020</th>\n",
       "      <th>Q021</th>\n",
       "      <th>Q022</th>\n",
       "      <th>Q023</th>\n",
       "      <th>Q024</th>\n",
       "      <th>Q025</th>\n",
       "    </tr>\n",
       "  </thead>\n",
       "  <tbody>\n",
       "    <tr>\n",
       "      <th>0</th>\n",
       "      <td>190001004661</td>\n",
       "      <td>2019</td>\n",
       "      <td>1506138</td>\n",
       "      <td>Redenção</td>\n",
       "      <td>15</td>\n",
       "      <td>PA</td>\n",
       "      <td>17</td>\n",
       "      <td>M</td>\n",
       "      <td>1</td>\n",
       "      <td>3</td>\n",
       "      <td>...</td>\n",
       "      <td>A</td>\n",
       "      <td>A</td>\n",
       "      <td>A</td>\n",
       "      <td>A</td>\n",
       "      <td>B</td>\n",
       "      <td>A</td>\n",
       "      <td>C</td>\n",
       "      <td>A</td>\n",
       "      <td>B</td>\n",
       "      <td>B</td>\n",
       "    </tr>\n",
       "    <tr>\n",
       "      <th>1</th>\n",
       "      <td>190001004674</td>\n",
       "      <td>2019</td>\n",
       "      <td>1504208</td>\n",
       "      <td>Marabá</td>\n",
       "      <td>15</td>\n",
       "      <td>PA</td>\n",
       "      <td>23</td>\n",
       "      <td>M</td>\n",
       "      <td>1</td>\n",
       "      <td>3</td>\n",
       "      <td>...</td>\n",
       "      <td>A</td>\n",
       "      <td>A</td>\n",
       "      <td>A</td>\n",
       "      <td>B</td>\n",
       "      <td>A</td>\n",
       "      <td>A</td>\n",
       "      <td>B</td>\n",
       "      <td>A</td>\n",
       "      <td>A</td>\n",
       "      <td>B</td>\n",
       "    </tr>\n",
       "    <tr>\n",
       "      <th>2</th>\n",
       "      <td>190001004722</td>\n",
       "      <td>2019</td>\n",
       "      <td>1501402</td>\n",
       "      <td>Belém</td>\n",
       "      <td>15</td>\n",
       "      <td>PA</td>\n",
       "      <td>35</td>\n",
       "      <td>F</td>\n",
       "      <td>2</td>\n",
       "      <td>1</td>\n",
       "      <td>...</td>\n",
       "      <td>A</td>\n",
       "      <td>A</td>\n",
       "      <td>A</td>\n",
       "      <td>B</td>\n",
       "      <td>A</td>\n",
       "      <td>B</td>\n",
       "      <td>B</td>\n",
       "      <td>A</td>\n",
       "      <td>A</td>\n",
       "      <td>B</td>\n",
       "    </tr>\n",
       "    <tr>\n",
       "      <th>3</th>\n",
       "      <td>190001004735</td>\n",
       "      <td>2019</td>\n",
       "      <td>1507300</td>\n",
       "      <td>São Félix do Xingu</td>\n",
       "      <td>15</td>\n",
       "      <td>PA</td>\n",
       "      <td>23</td>\n",
       "      <td>F</td>\n",
       "      <td>1</td>\n",
       "      <td>3</td>\n",
       "      <td>...</td>\n",
       "      <td>A</td>\n",
       "      <td>A</td>\n",
       "      <td>A</td>\n",
       "      <td>B</td>\n",
       "      <td>A</td>\n",
       "      <td>A</td>\n",
       "      <td>B</td>\n",
       "      <td>A</td>\n",
       "      <td>A</td>\n",
       "      <td>B</td>\n",
       "    </tr>\n",
       "    <tr>\n",
       "      <th>4</th>\n",
       "      <td>190001004776</td>\n",
       "      <td>2019</td>\n",
       "      <td>1500800</td>\n",
       "      <td>Ananindeua</td>\n",
       "      <td>15</td>\n",
       "      <td>PA</td>\n",
       "      <td>16</td>\n",
       "      <td>F</td>\n",
       "      <td>1</td>\n",
       "      <td>3</td>\n",
       "      <td>...</td>\n",
       "      <td>A</td>\n",
       "      <td>A</td>\n",
       "      <td>A</td>\n",
       "      <td>B</td>\n",
       "      <td>A</td>\n",
       "      <td>A</td>\n",
       "      <td>D</td>\n",
       "      <td>A</td>\n",
       "      <td>A</td>\n",
       "      <td>B</td>\n",
       "    </tr>\n",
       "  </tbody>\n",
       "</table>\n",
       "<p>5 rows × 136 columns</p>\n",
       "</div>"
      ],
      "text/plain": [
       "   NU_INSCRICAO  NU_ANO  CO_MUNICIPIO_RESIDENCIA NO_MUNICIPIO_RESIDENCIA  \\\n",
       "0  190001004661    2019                  1506138                Redenção   \n",
       "1  190001004674    2019                  1504208                  Marabá   \n",
       "2  190001004722    2019                  1501402                   Belém   \n",
       "3  190001004735    2019                  1507300      São Félix do Xingu   \n",
       "4  190001004776    2019                  1500800              Ananindeua   \n",
       "\n",
       "   CO_UF_RESIDENCIA SG_UF_RESIDENCIA  NU_IDADE TP_SEXO  TP_ESTADO_CIVIL  \\\n",
       "0                15               PA        17       M                1   \n",
       "1                15               PA        23       M                1   \n",
       "2                15               PA        35       F                2   \n",
       "3                15               PA        23       F                1   \n",
       "4                15               PA        16       F                1   \n",
       "\n",
       "   TP_COR_RACA  ...  Q016  Q017 Q018  Q019 Q020  Q021  Q022  Q023  Q024  Q025  \n",
       "0            3  ...     A     A    A     A    B     A     C     A     B     B  \n",
       "1            3  ...     A     A    A     B    A     A     B     A     A     B  \n",
       "2            1  ...     A     A    A     B    A     B     B     A     A     B  \n",
       "3            3  ...     A     A    A     B    A     A     B     A     A     B  \n",
       "4            3  ...     A     A    A     B    A     A     D     A     A     B  \n",
       "\n",
       "[5 rows x 136 columns]"
      ]
     },
     "execution_count": 2,
     "metadata": {},
     "output_type": "execute_result"
    }
   ],
   "source": [
    "import pandas as pd\n",
    "\n",
    "fonte = \"https://github.com/alura-cursos/imersao-dados-2-2020/blob/master/MICRODADOS_ENEM_2019_SAMPLE_43278.csv?raw=true\"\n",
    "\n",
    "dados_enem = pd.read_csv(fonte)\n",
    "dados_enem.head()"
   ]
  },
  {
   "cell_type": "markdown",
   "metadata": {},
   "source": [
    "### Pergunta 1: temos todas as cidades na amostra?\n",
    "\n",
    "Uma primeira pergunta que me veio a cabeça foi, será que na nossa amostra dos dados do ENEM temos todas cidades que tem na tabela que peguei da wiki? Provavelmente não, já que quanto menos pessoas uma dada população tem, menos a chance de ser selecionada uma pessoa dessa cidade fazendo uma amostra aleatória de todo o universo de pessoas do Brasil que fizeram o ENEM em 2019."
   ]
  },
  {
   "cell_type": "code",
   "execution_count": 3,
   "metadata": {},
   "outputs": [
    {
     "name": "stdout",
     "output_type": "stream",
     "text": [
      "Número de municípios da amostra dos dados do ENEM 2019: 5133\n",
      "Número de municípios do Brasil: 5570\n",
      "Temos percentualmente:  0.9215439856373429\n"
     ]
    }
   ],
   "source": [
    "# Numero de municipio da \n",
    "n_muni_amostra = len(dados_enem[\"CO_MUNICIPIO_RESIDENCIA\"].unique())\n",
    "print(\"Número de municípios da amostra dos dados do ENEM 2019:\",n_muni_amostra)\n",
    "\n",
    "n_muni_brasil = len(dados_cidades['Código IBGE'].unique())\n",
    "print(\"Número de municípios do Brasil:\",n_muni_brasil)\n",
    "\n",
    "print(\"Temos percentualmente: \",n_muni_amostra/n_muni_brasil)"
   ]
  },
  {
   "cell_type": "markdown",
   "metadata": {},
   "source": [
    "Minha intuição estava correta, mas a porcentagem é bem alta. Porém, acredito que isso possa afetar minha análise, já que é mais provável que as cidades que não aparecem na amostra são justamente aquelas com menor população.\n",
    "\n",
    "Perceba que eu usei o código da cidade ao invés do nome da cidade, isso é pq algumas cidades tem nome iguais mas são de estados diferentes"
   ]
  },
  {
   "cell_type": "markdown",
   "metadata": {},
   "source": [
    "### Pegunta 2: Consigo ver alguma relação usando um scatter plot?"
   ]
  },
  {
   "cell_type": "markdown",
   "metadata": {},
   "source": [
    "Primeiro, preciso verificar a cidade de cada aluno e consultar qual a população dela, guardando essa informações em uma nova coloca do dataframe dados_enem que vou chamar de \"NU_POPULACAO_MUNICIPIO_RESIDENCIA\""
   ]
  },
  {
   "cell_type": "code",
   "execution_count": 4,
   "metadata": {},
   "outputs": [],
   "source": [
    "import numpy as np\n",
    "\n",
    "# Alocação de memória\n",
    "dados_enem[\"NU_POPULACAO_MUNICIPIO_RESIDENCIA\"] = np.zeros(len(dados_enem))\n",
    "\n",
    "# Cidades que estão na amostra do ENEM\n",
    "cidades_da_amostra = dados_enem[\"CO_MUNICIPIO_RESIDENCIA\"].unique()\n",
    "\n",
    "# Laço para preencher a coluna de população\n",
    "for cidade in cidades_da_amostra:\n",
    "    \n",
    "    # Corrigindo os valores das populações (formato veio esquisito)\n",
    "    populacao_zuado = dados_cidades[dados_cidades[\"Código IBGE\"] == cidade]['População'].values[0]\n",
    "    populacao_str = populacao_zuado.replace('\\xa0','')\n",
    "    populacao = int(populacao_str)\n",
    "\n",
    "    # Preenchedo a coluna populacao para cada cidade\n",
    "    dados_enem.loc[dados_enem[\"CO_MUNICIPIO_RESIDENCIA\"] == cidade,\n",
    "                   \"NU_POPULACAO_MUNICIPIO_RESIDENCIA\"] = populacao"
   ]
  },
  {
   "cell_type": "code",
   "execution_count": 5,
   "metadata": {},
   "outputs": [
    {
     "data": {
      "text/plain": [
       "<matplotlib.axes._subplots.AxesSubplot at 0x2ddf3030430>"
      ]
     },
     "execution_count": 5,
     "metadata": {},
     "output_type": "execute_result"
    },
    {
     "data": {
      "image/png": "[encoded data removed]",
      "text/plain": [
       "<Figure size 720x720 with 1 Axes>"
      ]
     },
     "metadata": {
      "needs_background": "light"
     },
     "output_type": "display_data"
    }
   ],
   "source": [
    "import seaborn as sns\n",
    "import matplotlib.pyplot as plt\n",
    "\n",
    "plt.figure(figsize=(10,10))\n",
    "sns.scatterplot(data = dados_enem, x = 'NU_NOTA_MT', y = 'NU_POPULACAO_MUNICIPIO_RESIDENCIA')"
   ]
  },
  {
   "cell_type": "markdown",
   "metadata": {},
   "source": [
    "Olhando pro gráfico acima, é muito dificil tirar qualquer conclusão, os pontos estão muito juntos e não há nenhum agrupando muito evidente.\n",
    "\n",
    "Assim, acho que seria melhor olhar a distribuição de acordo com o número de habitantes de cada cidade, mas isso geraria um histograma para cada cidade. Dessa forma, acredito que a melhor forma de analisar seja classificando as cidades em grandes ou pequenas. Pra isso, vou usar a mediana.\n",
    "\n",
    "### Pergunta 3: Será que é possível extrair alguma conclusão olhando para as distribuições das notas de pessoas de cidades pequenas e de cidade grandes?\n",
    "\n",
    "Primeiro vou precisar calcular a mediana das populações usando a lista de todas as cidades"
   ]
  },
  {
   "cell_type": "code",
   "execution_count": 6,
   "metadata": {},
   "outputs": [
    {
     "data": {
      "text/plain": [
       "11631.0"
      ]
     },
     "execution_count": 6,
     "metadata": {},
     "output_type": "execute_result"
    }
   ],
   "source": [
    "# Convertendo o valor da população para string\n",
    "dados_pop_nome = dados_cidades[['População','Código IBGE']].astype(str).applymap(lambda x: str(x).replace('\\xa0',''))\n",
    "\n",
    "# Calculando a mediana\n",
    "dados_pop_nome['População'].median()"
   ]
  },
  {
   "cell_type": "code",
   "execution_count": 7,
   "metadata": {},
   "outputs": [
    {
     "data": {
      "text/plain": [
       "0         1.0\n",
       "1         1.0\n",
       "2         1.0\n",
       "3         1.0\n",
       "4         1.0\n",
       "         ... \n",
       "127375    1.0\n",
       "127376    1.0\n",
       "127377    1.0\n",
       "127378    1.0\n",
       "127379    1.0\n",
       "Name: TP_POPULACAO_MUNICIPIO_GRANDE, Length: 127380, dtype: float64"
      ]
     },
     "execution_count": 7,
     "metadata": {},
     "output_type": "execute_result"
    }
   ],
   "source": [
    "# 0: municipio com população menor ou igual a mediana\n",
    "# 1: município com população maior a mediana\n",
    "\n",
    "# Alocação de memória\n",
    "dados_enem[\"TP_POPULACAO_MUNICIPIO_GRANDE\"] = np.zeros(len(dados_enem))\n",
    "\n",
    "for cidade in cidades_da_amostra:\n",
    "    \n",
    "    # Corrigindo os valores das populações (formato veio esquisito)\n",
    "    populacao = int(dados_pop_nome[dados_pop_nome[\"Código IBGE\"] == str(cidade)]['População'].values)\n",
    "\n",
    "    # Preenchedo a coluna cidade grande para cada cidade\n",
    "    if populacao > dados_pop_nome['População'].median():\n",
    "        dados_enem.loc[dados_enem[\"CO_MUNICIPIO_RESIDENCIA\"] == cidade,\n",
    "                   \"TP_POPULACAO_MUNICIPIO_GRANDE\"] = 1\n",
    "\n",
    "dados_enem[\"TP_POPULACAO_MUNICIPIO_GRANDE\"]"
   ]
  },
  {
   "cell_type": "code",
   "execution_count": 32,
   "metadata": {},
   "outputs": [
    {
     "data": {
      "text/plain": [
       "<matplotlib.axes._subplots.AxesSubplot at 0x2dd8c5d9790>"
      ]
     },
     "execution_count": 32,
     "metadata": {},
     "output_type": "execute_result"
    },
    {
     "data": {
      "image/png": "[encoded data removed]",
      "text/plain": [
       "<Figure size 720x576 with 1 Axes>"
      ]
     },
     "metadata": {
      "needs_background": "light"
     },
     "output_type": "display_data"
    }
   ],
   "source": [
    "# Plotando o histograma\n",
    "plt.figure(figsize=(10,8))\n",
    "sns.histplot(dados_enem,x = \"NU_NOTA_MT\",hue='TP_POPULACAO_MUNICIPIO_GRANDE',stat='density',\n",
    "            common_norm=True)"
   ]
  },
  {
   "cell_type": "markdown",
   "metadata": {},
   "source": [
    "Olhando para o pico das duas curvas acima, podemos ver que a curva azul (cidade menores) tem uma maior concentração de notas na direção dos 400 pontos, enquanto que a curva laranja (cidades grandes) tem a notas mais concentradas para a direta. \n",
    "\n",
    "Podemos checar isso calculando as medias, medianas e modas"
   ]
  },
  {
   "cell_type": "code",
   "execution_count": 30,
   "metadata": {},
   "outputs": [
    {
     "name": "stdout",
     "output_type": "stream",
     "text": [
      "Médias\n",
      "Cidades maiores: 525.068418325046\n",
      "Cidades menores: 501.3825345933172\n",
      "\n",
      "Medianas\n",
      "Cidades maiores: 503.2\n",
      "Cidades menores: 482.0\n",
      "\n",
      "Modas\n",
      "Cidades maiores: 503.2\n",
      "Cidades menores: 482.0\n"
     ]
    }
   ],
   "source": [
    "nota_mt_maiores = dados_enem.query('TP_POPULACAO_MUNICIPIO_GRANDE == 1')['NU_NOTA_MT']\n",
    "nota_mt_menores = dados_enem.query('TP_POPULACAO_MUNICIPIO_GRANDE == 0')['NU_NOTA_MT']\n",
    "\n",
    "# Médias\n",
    "print('Médias')\n",
    "print('Cidades maiores:',nota_mt_maiores.mean())\n",
    "print('Cidades menores:',nota_mt_menores.mean())\n",
    "\n",
    "# Medianas\n",
    "print('\\nMedianas')\n",
    "print('Cidades maiores:',nota_mt_maiores.median())\n",
    "print('Cidades menores:',nota_mt_menores.median())\n",
    "\n",
    "# Modas\n",
    "print('\\nModas')\n",
    "print('Cidades maiores:',nota_mt_maiores.median())\n",
    "print('Cidades menores:',nota_mt_menores.median())"
   ]
  },
  {
   "cell_type": "markdown",
   "metadata": {},
   "source": [
    "Como podemos ver, os três valores são ligeiramente maiores para as cidades maiores. Claro, isso pode ser explicado um pouco pela amostragem que favoreceu um pouco mais as cidades maiores, mas já é alguma coisa.\n",
    "\n",
    "Uma outra coisa que pode ser vista nos histogramas é que a curva das cidades menores parece ser \"mais aberta\" ou ter a cauda mais curta em relação ao histograma dascidade grandes. Para medir isso, vou usar uma medida chamada curtose (kurtosis) que mede exatamente o quanto uma distribuição é mais aberta ou fechada (https://en.wikipedia.org/wiki/Kurtosis)"
   ]
  },
  {
   "cell_type": "code",
   "execution_count": 25,
   "metadata": {},
   "outputs": [
    {
     "name": "stdout",
     "output_type": "stream",
     "text": [
      "Cidades maiores: -0.04301728565393681\n",
      "Cidades menores: 0.14271356629627263\n"
     ]
    }
   ],
   "source": [
    "print('Cidades maiores:',dados_enem.query('TP_POPULACAO_MUNICIPIO_GRANDE == 1')['NU_NOTA_MT'].kurtosis())\n",
    "print('Cidades menores:',dados_enem.query('TP_POPULACAO_MUNICIPIO_GRANDE == 0')['NU_NOTA_MT'].kurtosis())"
   ]
  },
  {
   "cell_type": "markdown",
   "metadata": {},
   "source": [
    "O valor da curtose das cidades maiores é bem menor que o das cidade menores e chega até ser negativa, podendo ser classificada como 'Platykurtic'.\n",
    "\n",
    "Em geral, os testes de hipótese para confirmar se as médias são de fato diferentes como o ANOVA [1] assumem normalidade da distribuição e variância igual das duas amostras. Além disso, distribuições do tipo 'Platykurtic' tem efeito grande quando o tamanho das amostras é muito diferente (o que é o caso aqui)[2]\n",
    "\n",
    "Portanto, vou usar o teste de Welch [3], mas também comprar o ANOVA.\n",
    "\n",
    "[1] https://en.wikipedia.org/wiki/Analysis_of_variance\n",
    "[2] https://statistics.laerd.com/statistical-guides/one-way-anova-statistical-guide-3.php#:~:text=As%20regards%20the%20normality%20of,the%20Type%20I%20error%20rate.&text=Both%20the%20Welch%20and%20Brown,ANOVA%20using%20SPSS%20Statistics%20guide)\n",
    "[3] https://en.wikipedia.org/wiki/Welch%27s_t-test"
   ]
  },
  {
   "cell_type": "code",
   "execution_count": 26,
   "metadata": {},
   "outputs": [
    {
     "name": "stdout",
     "output_type": "stream",
     "text": [
      "F_onewayResult(statistic=260.68395437861307, pvalue=1.4636436714710302e-58)\n",
      "Ttest_indResult(statistic=16.145710092114705, pvalue=1.4636436714015657e-58)\n"
     ]
    }
   ],
   "source": [
    "# Testes estatíticos para verificar se de fato as distribuições são de populações diferentes\n",
    "\n",
    "from scipy.stats import ttest_ind,f_oneway\n",
    "\n",
    "# Teste ANOVA: \\assume curva normal, variancia é igual, mas aceita um pouco de desvio dessas condições\n",
    "print(f_oneway(nota_mt_maiores.dropna(),nota_mt_menores.dropna()))\n",
    "\n",
    "# Teste de Welch: permite que a a variancia não seja normal e diferentes tamanhos de amostra\n",
    "print(ttest_ind(nota_mt_maiores.dropna(),nota_mt_menores.dropna()))"
   ]
  },
  {
   "cell_type": "markdown",
   "metadata": {},
   "source": [
    "O que os testes confirmam é que as notas dos alunos de cidades maiores parecem ter sido coletadas de uma população diferente, ou seja, a diferença das médias é de fato significativa, pelo menos para a prova de matemática.\n",
    "\n",
    "Eu consigo até imaginar a voz do Paulo Silveira falando \"ta, mas o que eu faço com isso? tenho que mudar os alunos do Brasil todo pra cidades maiores que 100mil habitantes pra aumentar a média da nota do ENEM?\"\n",
    "\n",
    "É claro que não.\n",
    "\n",
    "Acho que o que fica evidente aqui é que, provavelmente, cidades menores, em geral, tem escolas de menor qualidade, menos infraestrutura e que isso é uma desigualdade que só pode ser resolvida com muitos anos de mais investimento nessas escolas. É claro que os melhores professores e escolas vão provavelmente se concentrar em cidades maiores ainda, por uma questão estatítica mesmo, devido a maior quantidade de pessoas, fica mais fácil ter um grupo maior de alunos que vão tirar notas mais altas."
   ]
  }
 ],
 "metadata": {
  "kernelspec": {
   "display_name": "Python 3",
   "language": "python",
   "name": "python3"
  },
  "language_info": {
   "codemirror_mode": {
    "name": "ipython",
    "version": 3
   },
   "file_extension": ".py",
   "mimetype": "text/x-python",
   "name": "python",
   "nbconvert_exporter": "python",
   "pygments_lexer": "ipython3",
   "version": "3.8.3"
  }
 },
 "nbformat": 4,
 "nbformat_minor": 4
}
